{
  "nbformat": 4,
  "nbformat_minor": 0,
  "metadata": {
    "colab": {
      "name": "1.ipynb",
      "provenance": []
    },
    "kernelspec": {
      "name": "python3",
      "display_name": "Python 3"
    },
    "language_info": {
      "name": "python"
    },
    "widgets": {
      "application/vnd.jupyter.widget-state+json": {
        "5723318b5f0d4020b6cd8312dc496bc1": {
          "model_module": "@jupyter-widgets/controls",
          "model_name": "HBoxModel",
          "model_module_version": "1.5.0",
          "state": {
            "_view_name": "HBoxView",
            "_dom_classes": [],
            "_model_name": "HBoxModel",
            "_view_module": "@jupyter-widgets/controls",
            "_model_module_version": "1.5.0",
            "_view_count": null,
            "_view_module_version": "1.5.0",
            "box_style": "",
            "layout": "IPY_MODEL_177586dcce3d40e2a47c8465f0482e15",
            "_model_module": "@jupyter-widgets/controls",
            "children": [
              "IPY_MODEL_29482e093a2445bdae021425e6c7245b",
              "IPY_MODEL_f74e46e525694b0095082071a35e7011",
              "IPY_MODEL_4fc7abb9727343629a0598c8633e562b"
            ]
          }
        },
        "177586dcce3d40e2a47c8465f0482e15": {
          "model_module": "@jupyter-widgets/base",
          "model_name": "LayoutModel",
          "model_module_version": "1.2.0",
          "state": {
            "_view_name": "LayoutView",
            "grid_template_rows": null,
            "right": null,
            "justify_content": null,
            "_view_module": "@jupyter-widgets/base",
            "overflow": null,
            "_model_module_version": "1.2.0",
            "_view_count": null,
            "flex_flow": null,
            "width": null,
            "min_width": null,
            "border": null,
            "align_items": null,
            "bottom": null,
            "_model_module": "@jupyter-widgets/base",
            "top": null,
            "grid_column": null,
            "overflow_y": null,
            "overflow_x": null,
            "grid_auto_flow": null,
            "grid_area": null,
            "grid_template_columns": null,
            "flex": null,
            "_model_name": "LayoutModel",
            "justify_items": null,
            "grid_row": null,
            "max_height": null,
            "align_content": null,
            "visibility": null,
            "align_self": null,
            "height": null,
            "min_height": null,
            "padding": null,
            "grid_auto_rows": null,
            "grid_gap": null,
            "max_width": null,
            "order": null,
            "_view_module_version": "1.2.0",
            "grid_template_areas": null,
            "object_position": null,
            "object_fit": null,
            "grid_auto_columns": null,
            "margin": null,
            "display": null,
            "left": null
          }
        },
        "29482e093a2445bdae021425e6c7245b": {
          "model_module": "@jupyter-widgets/controls",
          "model_name": "HTMLModel",
          "model_module_version": "1.5.0",
          "state": {
            "_view_name": "HTMLView",
            "style": "IPY_MODEL_73db89fa51694901a866c3e99ca63bbd",
            "_dom_classes": [],
            "description": "",
            "_model_name": "HTMLModel",
            "placeholder": "​",
            "_view_module": "@jupyter-widgets/controls",
            "_model_module_version": "1.5.0",
            "value": "Downloading https://raw.githubusercontent.com/stanfordnlp/stanza-resources/main/resources_1.3.0.json: ",
            "_view_count": null,
            "_view_module_version": "1.5.0",
            "description_tooltip": null,
            "_model_module": "@jupyter-widgets/controls",
            "layout": "IPY_MODEL_21c439b3ec0f43cbaf0375cc462b5df4"
          }
        },
        "f74e46e525694b0095082071a35e7011": {
          "model_module": "@jupyter-widgets/controls",
          "model_name": "FloatProgressModel",
          "model_module_version": "1.5.0",
          "state": {
            "_view_name": "ProgressView",
            "style": "IPY_MODEL_93a8a9debf70483bba65e0bc85cf395c",
            "_dom_classes": [],
            "description": "",
            "_model_name": "FloatProgressModel",
            "bar_style": "success",
            "max": 24459,
            "_view_module": "@jupyter-widgets/controls",
            "_model_module_version": "1.5.0",
            "value": 24459,
            "_view_count": null,
            "_view_module_version": "1.5.0",
            "orientation": "horizontal",
            "min": 0,
            "description_tooltip": null,
            "_model_module": "@jupyter-widgets/controls",
            "layout": "IPY_MODEL_62d46cdd16ec42ddb14d95da0747085f"
          }
        },
        "4fc7abb9727343629a0598c8633e562b": {
          "model_module": "@jupyter-widgets/controls",
          "model_name": "HTMLModel",
          "model_module_version": "1.5.0",
          "state": {
            "_view_name": "HTMLView",
            "style": "IPY_MODEL_e38a546e25634aab954bbc83ed1b68c9",
            "_dom_classes": [],
            "description": "",
            "_model_name": "HTMLModel",
            "placeholder": "​",
            "_view_module": "@jupyter-widgets/controls",
            "_model_module_version": "1.5.0",
            "value": " 142k/? [00:00&lt;00:00, 2.27MB/s]",
            "_view_count": null,
            "_view_module_version": "1.5.0",
            "description_tooltip": null,
            "_model_module": "@jupyter-widgets/controls",
            "layout": "IPY_MODEL_1bea472aba9943c1857b5a5cdb0f6aeb"
          }
        },
        "73db89fa51694901a866c3e99ca63bbd": {
          "model_module": "@jupyter-widgets/controls",
          "model_name": "DescriptionStyleModel",
          "model_module_version": "1.5.0",
          "state": {
            "_view_name": "StyleView",
            "_model_name": "DescriptionStyleModel",
            "description_width": "",
            "_view_module": "@jupyter-widgets/base",
            "_model_module_version": "1.5.0",
            "_view_count": null,
            "_view_module_version": "1.2.0",
            "_model_module": "@jupyter-widgets/controls"
          }
        },
        "21c439b3ec0f43cbaf0375cc462b5df4": {
          "model_module": "@jupyter-widgets/base",
          "model_name": "LayoutModel",
          "model_module_version": "1.2.0",
          "state": {
            "_view_name": "LayoutView",
            "grid_template_rows": null,
            "right": null,
            "justify_content": null,
            "_view_module": "@jupyter-widgets/base",
            "overflow": null,
            "_model_module_version": "1.2.0",
            "_view_count": null,
            "flex_flow": null,
            "width": null,
            "min_width": null,
            "border": null,
            "align_items": null,
            "bottom": null,
            "_model_module": "@jupyter-widgets/base",
            "top": null,
            "grid_column": null,
            "overflow_y": null,
            "overflow_x": null,
            "grid_auto_flow": null,
            "grid_area": null,
            "grid_template_columns": null,
            "flex": null,
            "_model_name": "LayoutModel",
            "justify_items": null,
            "grid_row": null,
            "max_height": null,
            "align_content": null,
            "visibility": null,
            "align_self": null,
            "height": null,
            "min_height": null,
            "padding": null,
            "grid_auto_rows": null,
            "grid_gap": null,
            "max_width": null,
            "order": null,
            "_view_module_version": "1.2.0",
            "grid_template_areas": null,
            "object_position": null,
            "object_fit": null,
            "grid_auto_columns": null,
            "margin": null,
            "display": null,
            "left": null
          }
        },
        "93a8a9debf70483bba65e0bc85cf395c": {
          "model_module": "@jupyter-widgets/controls",
          "model_name": "ProgressStyleModel",
          "model_module_version": "1.5.0",
          "state": {
            "_view_name": "StyleView",
            "_model_name": "ProgressStyleModel",
            "description_width": "",
            "_view_module": "@jupyter-widgets/base",
            "_model_module_version": "1.5.0",
            "_view_count": null,
            "_view_module_version": "1.2.0",
            "bar_color": null,
            "_model_module": "@jupyter-widgets/controls"
          }
        },
        "62d46cdd16ec42ddb14d95da0747085f": {
          "model_module": "@jupyter-widgets/base",
          "model_name": "LayoutModel",
          "model_module_version": "1.2.0",
          "state": {
            "_view_name": "LayoutView",
            "grid_template_rows": null,
            "right": null,
            "justify_content": null,
            "_view_module": "@jupyter-widgets/base",
            "overflow": null,
            "_model_module_version": "1.2.0",
            "_view_count": null,
            "flex_flow": null,
            "width": null,
            "min_width": null,
            "border": null,
            "align_items": null,
            "bottom": null,
            "_model_module": "@jupyter-widgets/base",
            "top": null,
            "grid_column": null,
            "overflow_y": null,
            "overflow_x": null,
            "grid_auto_flow": null,
            "grid_area": null,
            "grid_template_columns": null,
            "flex": null,
            "_model_name": "LayoutModel",
            "justify_items": null,
            "grid_row": null,
            "max_height": null,
            "align_content": null,
            "visibility": null,
            "align_self": null,
            "height": null,
            "min_height": null,
            "padding": null,
            "grid_auto_rows": null,
            "grid_gap": null,
            "max_width": null,
            "order": null,
            "_view_module_version": "1.2.0",
            "grid_template_areas": null,
            "object_position": null,
            "object_fit": null,
            "grid_auto_columns": null,
            "margin": null,
            "display": null,
            "left": null
          }
        },
        "e38a546e25634aab954bbc83ed1b68c9": {
          "model_module": "@jupyter-widgets/controls",
          "model_name": "DescriptionStyleModel",
          "model_module_version": "1.5.0",
          "state": {
            "_view_name": "StyleView",
            "_model_name": "DescriptionStyleModel",
            "description_width": "",
            "_view_module": "@jupyter-widgets/base",
            "_model_module_version": "1.5.0",
            "_view_count": null,
            "_view_module_version": "1.2.0",
            "_model_module": "@jupyter-widgets/controls"
          }
        },
        "1bea472aba9943c1857b5a5cdb0f6aeb": {
          "model_module": "@jupyter-widgets/base",
          "model_name": "LayoutModel",
          "model_module_version": "1.2.0",
          "state": {
            "_view_name": "LayoutView",
            "grid_template_rows": null,
            "right": null,
            "justify_content": null,
            "_view_module": "@jupyter-widgets/base",
            "overflow": null,
            "_model_module_version": "1.2.0",
            "_view_count": null,
            "flex_flow": null,
            "width": null,
            "min_width": null,
            "border": null,
            "align_items": null,
            "bottom": null,
            "_model_module": "@jupyter-widgets/base",
            "top": null,
            "grid_column": null,
            "overflow_y": null,
            "overflow_x": null,
            "grid_auto_flow": null,
            "grid_area": null,
            "grid_template_columns": null,
            "flex": null,
            "_model_name": "LayoutModel",
            "justify_items": null,
            "grid_row": null,
            "max_height": null,
            "align_content": null,
            "visibility": null,
            "align_self": null,
            "height": null,
            "min_height": null,
            "padding": null,
            "grid_auto_rows": null,
            "grid_gap": null,
            "max_width": null,
            "order": null,
            "_view_module_version": "1.2.0",
            "grid_template_areas": null,
            "object_position": null,
            "object_fit": null,
            "grid_auto_columns": null,
            "margin": null,
            "display": null,
            "left": null
          }
        }
      }
    }
  },
  "cells": [
    {
      "cell_type": "code",
      "source": [
        "import nltk\n",
        "nltk.download('punkt')\n",
        "nltk.download('averaged_perceptron_tagger')\n",
        "nltk.download('maxent_ne_chunker')\n",
        "nltk.download('words')"
      ],
      "metadata": {
        "colab": {
          "base_uri": "https://localhost:8080/"
        },
        "id": "l_DCNQBEz3SG",
        "outputId": "185ae7b6-bc03-4536-b815-2f08da6fd438"
      },
      "execution_count": 2,
      "outputs": [
        {
          "output_type": "stream",
          "name": "stdout",
          "text": [
            "[nltk_data] Downloading package punkt to /root/nltk_data...\n",
            "[nltk_data]   Package punkt is already up-to-date!\n",
            "[nltk_data] Downloading package averaged_perceptron_tagger to\n",
            "[nltk_data]     /root/nltk_data...\n",
            "[nltk_data]   Package averaged_perceptron_tagger is already up-to-\n",
            "[nltk_data]       date!\n",
            "[nltk_data] Downloading package maxent_ne_chunker to\n",
            "[nltk_data]     /root/nltk_data...\n",
            "[nltk_data]   Package maxent_ne_chunker is already up-to-date!\n",
            "[nltk_data] Downloading package words to /root/nltk_data...\n",
            "[nltk_data]   Package words is already up-to-date!\n"
          ]
        },
        {
          "output_type": "execute_result",
          "data": {
            "text/plain": [
              "True"
            ]
          },
          "metadata": {},
          "execution_count": 2
        }
      ]
    },
    {
      "cell_type": "code",
      "source": [
        "import csv\n",
        "\n",
        "with open('/content/6229a20db2ede.csv', newline='') as f:\n",
        "    reader = csv.reader(f)\n",
        "    data = list(reader)\n",
        "\n",
        "print(data)"
      ],
      "metadata": {
        "colab": {
          "base_uri": "https://localhost:8080/"
        },
        "id": "o-5chL7Lz5eA",
        "outputId": "35a949cf-a6fc-49f3-f7df-eaa6470f5c15"
      },
      "execution_count": 3,
      "outputs": [
        {
          "output_type": "stream",
          "name": "stderr",
          "text": [
            "IOPub data rate exceeded.\n",
            "The notebook server will temporarily stop sending output\n",
            "to the client in order to avoid crashing it.\n",
            "To change this limit, set the config variable\n",
            "`--NotebookApp.iopub_data_rate_limit`.\n",
            "\n",
            "Current values:\n",
            "NotebookApp.iopub_data_rate_limit=1000000.0 (bytes/sec)\n",
            "NotebookApp.rate_limit_window=3.0 (secs)\n",
            "\n"
          ]
        }
      ]
    },
    {
      "cell_type": "code",
      "source": [
        "# download stopwords corpus, you need to run it once\n",
        "import nltk\n",
        "nltk.download(\"stopwords\")\n",
        "#--------#\n",
        "\n",
        "from nltk.corpus import stopwords\n",
        "from pymystem3 import Mystem\n",
        "from string import punctuation\n",
        "\n",
        "#Create lemmatizer and stopwords list\n",
        "mystem = Mystem() \n",
        "russian_stopwords = stopwords.words(\"russian\")\n",
        "\n"
      ],
      "metadata": {
        "colab": {
          "base_uri": "https://localhost:8080/"
        },
        "id": "kK_KnGAp7hic",
        "outputId": "1f15b2da-9256-44a8-c6a1-47f967d85b35"
      },
      "execution_count": 39,
      "outputs": [
        {
          "output_type": "stream",
          "name": "stdout",
          "text": [
            "[nltk_data] Downloading package stopwords to /root/nltk_data...\n",
            "[nltk_data]   Package stopwords is already up-to-date!\n"
          ]
        }
      ]
    },
    {
      "cell_type": "code",
      "source": [
        "russian_text = '''Российская корпорация \"Иркут\" и египетский холдинг KATO Investment на авиасалоне в Дубае подписали ряд соглашений о развитии сотрудничества по проекту новейшего российского пассажирского самолета МС-21 . \"В рамках программы сотрудничества заключено соглашение о закупке для авиакомпании Cairo Aviation (дочернее предприятие KATO Investment ) 6 самолетов МС-21. Соглашение также предусматривает опцион на 4 самолета МС-21\" , — сообщается в понедельник на сайте российской компании. Кроме того, в настоящее время стороны обсуждают создание регионального центра по ремонту и обслуживанию МС-21 в районе международного аэропорта Аль-Аламейн, расположенного в 184 километрах от Каира. Египетская сторона планирует бесплатно предоставить площадь, примыкающую к воздушной гавани, для размещения производственных сооружений. Отметим, что в настоящее время на Иркутском авиазаводе ведется сборка первых летных прототипов МС-21. Первый полет запланирован на весну-лето будущего года, серийное производство — на 2017 год.'''\n"
      ],
      "metadata": {
        "id": "52myOLic-UlY"
      },
      "execution_count": 4,
      "outputs": []
    },
    {
      "cell_type": "code",
      "source": [
        "!pip install stanza"
      ],
      "metadata": {
        "colab": {
          "base_uri": "https://localhost:8080/"
        },
        "id": "UrS8fbKT-Wmm",
        "outputId": "4d86ad2e-e63f-4487-8e88-90f4ff7f8410"
      },
      "execution_count": 8,
      "outputs": [
        {
          "output_type": "stream",
          "name": "stdout",
          "text": [
            "Requirement already satisfied: stanza in /usr/local/lib/python3.7/dist-packages (1.3.0)\n",
            "Requirement already satisfied: requests in /usr/local/lib/python3.7/dist-packages (from stanza) (2.23.0)\n",
            "Requirement already satisfied: torch>=1.3.0 in /usr/local/lib/python3.7/dist-packages (from stanza) (1.10.0+cu111)\n",
            "Requirement already satisfied: numpy in /usr/local/lib/python3.7/dist-packages (from stanza) (1.21.5)\n",
            "Requirement already satisfied: six in /usr/local/lib/python3.7/dist-packages (from stanza) (1.15.0)\n",
            "Requirement already satisfied: emoji in /usr/local/lib/python3.7/dist-packages (from stanza) (1.7.0)\n",
            "Requirement already satisfied: protobuf in /usr/local/lib/python3.7/dist-packages (from stanza) (3.17.3)\n",
            "Requirement already satisfied: tqdm in /usr/local/lib/python3.7/dist-packages (from stanza) (4.63.0)\n",
            "Requirement already satisfied: typing-extensions in /usr/local/lib/python3.7/dist-packages (from torch>=1.3.0->stanza) (3.10.0.2)\n",
            "Requirement already satisfied: idna<3,>=2.5 in /usr/local/lib/python3.7/dist-packages (from requests->stanza) (2.10)\n",
            "Requirement already satisfied: chardet<4,>=3.0.2 in /usr/local/lib/python3.7/dist-packages (from requests->stanza) (3.0.4)\n",
            "Requirement already satisfied: certifi>=2017.4.17 in /usr/local/lib/python3.7/dist-packages (from requests->stanza) (2021.10.8)\n",
            "Requirement already satisfied: urllib3!=1.25.0,!=1.25.1,<1.26,>=1.21.1 in /usr/local/lib/python3.7/dist-packages (from requests->stanza) (1.24.3)\n"
          ]
        }
      ]
    },
    {
      "cell_type": "code",
      "source": [
        "import stanza\n",
        "stanza.download('ru')\n"
      ],
      "metadata": {
        "colab": {
          "base_uri": "https://localhost:8080/",
          "height": 104,
          "referenced_widgets": [
            "5723318b5f0d4020b6cd8312dc496bc1",
            "177586dcce3d40e2a47c8465f0482e15",
            "29482e093a2445bdae021425e6c7245b",
            "f74e46e525694b0095082071a35e7011",
            "4fc7abb9727343629a0598c8633e562b",
            "73db89fa51694901a866c3e99ca63bbd",
            "21c439b3ec0f43cbaf0375cc462b5df4",
            "93a8a9debf70483bba65e0bc85cf395c",
            "62d46cdd16ec42ddb14d95da0747085f",
            "e38a546e25634aab954bbc83ed1b68c9",
            "1bea472aba9943c1857b5a5cdb0f6aeb"
          ]
        },
        "id": "BR7ZgiZo-Qa_",
        "outputId": "8387e674-8c74-4caa-cdaf-3551871b4684"
      },
      "execution_count": 6,
      "outputs": [
        {
          "output_type": "display_data",
          "data": {
            "application/vnd.jupyter.widget-view+json": {
              "model_id": "5723318b5f0d4020b6cd8312dc496bc1",
              "version_minor": 0,
              "version_major": 2
            },
            "text/plain": [
              "Downloading https://raw.githubusercontent.com/stanfordnlp/stanza-resources/main/resources_1.3.0.json:   0%|   …"
            ]
          },
          "metadata": {}
        },
        {
          "output_type": "stream",
          "name": "stderr",
          "text": [
            "2022-03-11 08:12:41 INFO: Downloading default packages for language: ru (Russian)...\n",
            "2022-03-11 08:12:44 INFO: File exists: /root/stanza_resources/ru/default.zip.\n",
            "2022-03-11 08:12:51 INFO: Finished downloading models and saved to /root/stanza_resources.\n"
          ]
        }
      ]
    },
    {
      "cell_type": "code",
      "source": [
        "def stanza_nlp_ru(text):\n",
        "  nlp = stanza.Pipeline(lang='ru', processors='tokenize,ner')\n",
        "  doc = nlp(text)\n",
        "  ans = []\n",
        "  for sent in doc.sentences:\n",
        "    for ent in sent.ents:\n",
        "      if ent.type in ['ORG', 'PER']:\n",
        "        ans.append(ent.text)\n",
        "        print(f'Entity: {ent.text}\\tType: {ent.type}')\n",
        "  return set(ans)\n",
        "stanza_nlp_ru(russian_text)"
      ],
      "metadata": {
        "colab": {
          "base_uri": "https://localhost:8080/"
        },
        "id": "HqjSH36n-tdp",
        "outputId": "50ca5b51-aa67-4e54-f52a-605ce221996d"
      },
      "execution_count": 7,
      "outputs": [
        {
          "output_type": "stream",
          "name": "stderr",
          "text": [
            "2022-03-11 08:12:51 INFO: Loading these models for language: ru (Russian):\n",
            "=========================\n",
            "| Processor | Package   |\n",
            "-------------------------\n",
            "| tokenize  | syntagrus |\n",
            "| ner       | wikiner   |\n",
            "=========================\n",
            "\n",
            "2022-03-11 08:12:51 INFO: Use device: cpu\n",
            "2022-03-11 08:12:51 INFO: Loading: tokenize\n",
            "2022-03-11 08:12:51 INFO: Loading: ner\n",
            "2022-03-11 08:12:52 INFO: Done loading processors!\n"
          ]
        },
        {
          "output_type": "stream",
          "name": "stdout",
          "text": [
            "Entity: Иркут\tType: ORG\n",
            "Entity: KATO Investment\tType: ORG\n",
            "Entity: Cairo Aviation\tType: ORG\n",
            "Entity: KATO Investment\tType: ORG\n",
            "Entity: Иркутском авиазаводе\tType: ORG\n"
          ]
        },
        {
          "output_type": "execute_result",
          "data": {
            "text/plain": [
              "{'Cairo Aviation', 'KATO Investment', 'Иркут', 'Иркутском авиазаводе'}"
            ]
          },
          "metadata": {},
          "execution_count": 7
        }
      ]
    },
    {
      "cell_type": "code",
      "source": [
        "## Работает хуже чем stranza \n",
        "\n",
        "for i in range(1,10):\n",
        "  print(data[i])\n",
        "  russian_text = data[i][1]\n",
        "  ans = []\n",
        "  for sent in nltk.sent_tokenize(russian_text):\n",
        "   for chunk in nltk.ne_chunk(nltk.pos_tag(nltk.word_tokenize(sent))):\n",
        "      if hasattr(chunk, 'label'):\n",
        "        if chunk.label() in ['ORGANIZATION', 'PERSON']:\n",
        "          ans.append('')\n",
        "          for i in range(len(chunk)):\n",
        "            ans[-1]+=str(chunk[i][0])+' '\n",
        "            print(chunk[i][0], end=' ')\n",
        "          print()\n",
        "  print(set(ans))"
      ],
      "metadata": {
        "colab": {
          "base_uri": "https://localhost:8080/"
        },
        "id": "PfqfoDT71gMm",
        "outputId": "cafcb573-fefb-4c73-f886-78a8f50c8d9c"
      },
      "execution_count": 31,
      "outputs": [
        {
          "output_type": "stream",
          "name": "stdout",
          "text": [
            "['2021-10-31 00:00:00', ' Российская корпорация \"Иркут\" и египетский холдинг KATO Investment на авиасалоне в Дубае подписали ряд соглашений о развитии сотрудничества по проекту новейшего российского пассажирского самолета МС-21 . \"В рамках программы сотрудничества заключено соглашение о закупке для авиакомпании Cairo Aviation (дочернее предприятие KATO Investment ) 6 самолетов МС-21. Соглашение также предусматривает опцион на 4 самолета МС-21\" , — сообщается в понедельник на сайте российской компании. Кроме того, в настоящее время стороны обсуждают создание регионального центра по ремонту и обслуживанию МС-21 в районе международного аэропорта Аль-Аламейн, расположенного в 184 километрах от Каира. Египетская сторона планирует бесплатно предоставить площадь, примыкающую к воздушной гавани, для размещения производственных сооружений. Отметим, что в настоящее время на Иркутском авиазаводе ведется сборка первых летных прототипов МС-21. Первый полет запланирован на весну-лето будущего года, серийное производство — на 2017 год. ']\n",
            "KATO Investment \n",
            "KATO \n",
            "Соглашение \n",
            "Египетская \n",
            "Первый \n",
            "{'Соглашение ', 'Египетская ', 'KATO ', 'KATO Investment ', 'Первый '}\n",
            "['2021-10-30 00:00:00', ' Во второй день празднования 100-летия Пермского университета , 14 октября, на торжественном вечере в Театре оперы и балета были впервые вручены медали имени Николая Мешкова . Университет наградил президента АО \"ЭР-Телеком Холдинг\" Андрея Кузяева и компанию \"ЛУКОЙЛ-Пермь\" . По решению Попечительского совета ПГНИУ их отметили за значительный вклад в развитие университета, укрепление авторитета вуза в России и мире, а также рост его финансового благосостояния. Решение о присуждении медали было принято 28 сентября. Андрей Равелевич Кузяев – один из самых успешных выпускников экономического факультета Пермского университета . Он начал свой путь как бизнесмен и управленец в 1990-е годы и стал одним из основателей (создателей) крупнейшего предприятия Прикамья – \"ЛУКОЙЛ-Пермь\" , до 2003 года был его генеральным директором. Затем возглавил компанию \"ЛУКОЙЛ Оверсиз Холдинг Лтд\" , сейчас является главой \"Пермской финансово-производственной группы\" (компания управляет ОАО АКБ \"Урал ФД\" , АО \"ЭР-Телеком Холдинг \", ООО \"Нефтьсервисхолдинг\", PAN City Group и рядом других успешных организаций) и президентом холдинга \"ЭР-Телеком\". Также Андрей Равелевич – председатель Правления РОО \"Пермское землячество\" и совета директоров ОАО \"Фонд развития Дальнего Востока\" . Он всегда поддерживает связь с родным вузом: выступил одним из инициаторов создания Попечительского совета Пермского университета , при его поддержке вуз завершил ряд крупных инфраструктурных проектов, создает и реализует образовательные проекты, в том числе международного уровня. \"ЛУКОЙЛ-Пермь\" на протяжении многих лет сотрудничает с ПГНИУ . Выпускники пополняют кадровый состав компании. При поддержке нефтяников, в частности, реализуются научно-исследовательские, инфраструктурные, образовательные, социальные и культурные проекты и международные летние школы. Многие сотрудники компании входят в список благотворителей Пермского университета и жертвователей в Фонд целевого капитала . В 2016 году открыто новое направление магистратуры – \"Экология и природопользование нефтегазового комплекса\", а ученые получают поддержку на проведение научных изысканий в сфере рационального использования сырья и переработки отходов. В этом же году между ПГНИУ и ООО \"ЛУКОЙЛ-Пермь\" было подписано соглашение о сотрудничестве. Нефтяники вложили в обновление конференц-зала 20 миллионов рублей. Николай Васильевич Мешков – один из основателей высшего образования на Урале, промышленник и меценат. Он известен своей общественной деятельностью: фактически спас Пермь от голода в неурожайный год и построил Ночлежный дом для бедняков. Деятельность Николая Васильевича как пароходчика обеспечивала транспортную открытость Перми и развитие ее экономики. Пресс-служба Фото Константина Долгановского ']\n",
            "Пермского \n",
            "Театре \n",
            "Николая Мешкова \n",
            "Кузяева \n",
            "России \n",
            "Решение \n",
            "Андрей \n",
            "Равелевич Кузяев \n",
            "Прикамья \n",
            "Затем \n",
            "ЛУКОЙЛ Оверсиз Холдинг Лтд \n",
            "PAN City Group \n",
            "Также \n",
            "Андрей Равелевич \n",
            "Фонд \n",
            "Выпускники \n",
            "Многие \n",
            "Экология \n",
            "Нефтяники \n",
            "Николай \n",
            "Васильевич Мешков \n",
            "Николая Васильевича \n",
            "Фото Константина Долгановского \n",
            "{'Андрей ', 'Васильевич Мешков ', 'Андрей Равелевич ', 'Театре ', 'Равелевич Кузяев ', 'Затем ', 'PAN City Group ', 'Многие ', 'Также ', 'Выпускники ', 'Нефтяники ', 'Николая Васильевича ', 'Фото Константина Долгановского ', 'Николая Мешкова ', 'Прикамья ', 'Кузяева ', 'Пермского ', 'Николай ', 'Экология ', 'Фонд ', 'ЛУКОЙЛ Оверсиз Холдинг Лтд ', 'России ', 'Решение '}\n",
            "['2021-11-08 00:00:00', ' На реализацию потребуется 13 лет, отметил гендиректор \"Вертолетов России\" Андрей Богинский . © Фото: пресс-служба президента РФ Россия и Китай заключили контракт на создание тяжелого вертолета, соглашение было подписано 25 июня. Об этом доложил президенту РФ Владимиру Путину генеральный директор холдинга \"Вертолеты России\" Андрей Богинский на встрече в Кремле. \"В 2016 году в ходе Вашего визита в Пекин было подписано межправсоглашение. С 2008 года шли интенсивные переговоры, и 25 июня текущего года мы подписали контракт\", - сказал он. По словам гендиректора, российская сторона будет заниматься разработкой и созданием таких агрегатов, как трансмиссия, рулевой винт и противообледенительная система, а также накачкой ресурса для данной машины. Совместный проект двух стран рассчитан на 13 лет. Также, по словам Богинского , холдинг с 2021 по 2025 годы планирует произвести свыше 1100 вертолетов. Межправительственное соглашение о создании перспективного тяжелого вертолета AHL (Advanced Heavy Lift) было подписано компанией \"Вертолеты России\" и китайской компанией Avicopter (входит в корпорацию Aviation Industry Corporation of China, AVIC) в Пекине в 2016 году. ']\n",
            "Россия \n",
            "Путину \n",
            "Богинский \n",
            "Вашего \n",
            "Совместный \n",
            "Advanced Heavy Lift \n",
            "AVIC \n",
            "{'AVIC ', 'Advanced Heavy Lift ', 'Вашего ', 'Совместный ', 'Богинский ', 'Россия ', 'Путину '}\n",
            "['2021-11-06 00:00:00', ' Во Вьетнаме построят завод по производству тарного картона Сегодня, 11:27 Ожидается, что спрос на тарный картон во Вьетнаме будет расти из-за увеличения внутреннего потребления, а также за счет увеличения спроса из-за рубежа, особенно из Китая. Поэтому в компании Vina Kraft Paper приняли решение построить в стране новое производство. В последние годы в Азии вкладываются значительные инвестиции в строительство новых мощностей по производству бумаги. Во многом это связано с повышенным спросом на упаковочную бумагу со стороны Китая. Это одна из причин, по которой Vina Kraft Paper , совместное предприятие, основанное таиландской SCG Paper и японской упаковочной группой Rengo , решила инвестировать в еще один завод по производству тарного картона во Вьетнаме. Новый завод планируется построить недалеко от Ханоя на севере страны. Его производственная мощность составит 370 тыс. тонн футеровки и гофрированного материала в год, сообщается в официальном пресс-релизе Rengo и SCG Paper. Ввод предприятия в эксплуатацию запланирован на первый квартал 2024 года. Общий объем инвестиций в проект составит 280 млн евро. Также по теме: Председатель правления РАО \"Бумпром\" предложил меры по восстановлению и развитию производства растворимой целлюлозы в РФ Чем грозит подорожание макулатуры Hayat Kimya построит четвертый завод в России ']\n",
            "Вьетнаме \n",
            "Поэтому \n",
            "Vina Kraft Paper \n",
            "Vina Kraft Paper \n",
            "Paper \n",
            "Rengo \n",
            "Новый \n",
            "Rengo \n",
            "Ввод \n",
            "Общий \n",
            "Также \n",
            "Hayat Kimya \n",
            "{'Ввод ', 'Rengo ', 'Поэтому ', 'Hayat Kimya ', 'Вьетнаме ', 'Общий ', 'Также ', 'Vina Kraft Paper ', 'Paper ', 'Новый '}\n",
            "['2021-11-09 00:00:00', ' Новости - Отрасли ТЭК Резиденты ТОСЭР \"Озерск\" инвестируют в проекты по соглашениям с \"Атом-ТОР\" более 400 млн рублей 09.11.21 14:50 В 2019 году компания \"Интео\" заключила соглашение с управляющей компанией \"Атом-ТОР\", чтобы реализовать на ТОСЭР \"Озерск\" в Челябинской области проект по производству машин и оборудования для газо- и нефтедобывающих компаний, производителей буровзрывных работ. К настоящему времени предприятие уже вышло на полную проектную мощность. Для Александра Федотова и его предприятия эта награда стала первой. \"Мы изготавливаем не только машины, но и линии, мини-заводы модульного типа по производству невзрывчатых компонентов эмульсионных взрывчатых веществ. Эмульсионные взрывчатые вещества в последние годы приобрели преимущественное развитие для проведения буровзрывных работ в карьерах и шахтах, при строительстве и разработке месторождений полезных ископаемых. Технология их производства совершенствуется, чтобы отвечать требованиям комплексной механизации и безопасности взрывных и буровзрывных работ на открытых и подземных разработках\", — рассказал генеральный директор \"Интео\" . Все этапы производственного процесса, начиная с проектирования, ведутся силами высококлассных специалистов \"Интео\" . На рынок машиностроение компание \"Интео\" удалось выйти благодаря внедрению собственных разработок. Как пояснил Александр Федотов , изначально расчет был другим. \"Сказался пандемийный год. Занимались конструкторской документацией и разрешительными документами. В прошлом году получили заказ на изготовление мини-завода по производству взрывчатых веществ. Линия проходит последние испытания, после чего отправится в город Дегтярск Свердловской области\", — сказал он. Специалисты \"Интео\" используют новое и современное оборудование. Тот же сварочный аппарат – последней модификации. Сейчас идет сборка трех смесительно-зарядных машин. Одна на базе КАМАЗа, две – на шасси \"IVECO\". Отправятся на Ямал и Кузбасс соответственно. В прошлом году такая же машина была куплена одной из якутских компаний, откуда уже пришел положительный отзыв о качестве сборки и возможностях. Более того, идут переговоры о покупке еще нескольких единиц техники. Генеральный директор АО \"Атом-ТОР\" Николай Пегин отметил, что производимая компанией \"Интео\" техника способна заменить дорогостоящие импортные аналоги. \"ТОСЭР, созданные в закрытых атомных городах, создавались как инструменты для решения актуальной задачи развития этих территорий, создания новых высококвалифицированных рабочих мест. Сегодня мы видим, что наши резиденты успешно запускают производства и вносят вклад в экономику регионов\". За два года \"Интео\" доказало высокую конкурентоспособность на рынке производства оборудования для буровзрывных работ. Предприятие эффективно осваивает смежные рыночные ниши, такие как проектирование и изготовление штучного оборудования в соответствии с техническим заданием заказчика, ремонт и модернизацию буровой техники, техническое обслуживание машин и оборудования. Нужно отметить, что сегодня ТОСЭР \"Озерск\" , расположенная в Челябинской области, в целом имеет репутацию территории реализации высокотехнологичных проектов. Здесь работают шесть резидентов, которые планируют создать около 200 рабочих мест для жителей города. По соглашениям с АО \"Атом-ТОР\" сумма заявленных инвестиций по проектам составляет более 400 млн рублей. ']\n",
            "Отрасли \n",
            "ТЭК Резиденты \n",
            "Челябинской \n",
            "Александра Федотова \n",
            "Технология \n",
            "Занимались \n",
            "Линия \n",
            "Сейчас \n",
            "Одна \n",
            "Отправятся \n",
            "Кузбасс \n",
            "Николай Пегин \n",
            "Сегодня \n",
            "Здесь \n",
            "{'Отрасли ', 'Александра Федотова ', 'Одна ', 'Линия ', 'Николай Пегин ', 'Сегодня ', 'ТЭК Резиденты ', 'Технология ', 'Отправятся ', 'Сейчас ', 'Кузбасс ', 'Здесь ', 'Челябинской ', 'Занимались '}\n",
            "['2021-11-04 00:00:00', ' В Воронежской области дан старт первому в России производству сельхозмашин французской компании KUHN . Торжественная церемония пуска нового завода состоялась в Рамонском районе. По поручению губернатора Александра Гусева в открытии принял участие заместитель председателя правительства Воронежской области Виктор Логинов . Он передал поздравления главы региона, который отметил важность сотрудничества с KUHN Group в рамках приоритетного стратегического проекта \"Новая индустриализация региона\". Открывшийся завод уже устанавливает кооперационные связи с машиностроительными предприятиями Воронежской области, осуществляет контакты с местными вузами – в плане стажировки и дальнейшего трудоустройства студентов. В дальнейшем это сотрудничество будет расширяться. Производственная платформа введенного в строй дочернего предприятия ООО \"Кун Восток\" состоит из трех линий мощностью до 500 машин в год. В рамках строительства первой очереди также сданы в эксплуатацию склады готовой продукции (площадью 7 тыс. кв. метров) и запасных частей (на 5 тыс. палетомест). На территории расположен профессиональный учебный центр, шоу-рум с экспозицией и испытательный полигон площадью 10 га для демонстрации техники в работе. На воронежском предприятии наладят сборку наиболее востребованных у отечественных аграриев машин – почвообрабатывающих агрегатов, зерновых и пропашных сеялок, механизмов для внесения удобрений, опрыскивания и другой техники с использованием российских комплектующих. По словам генерального директора ООО \"Кун Восток\" Андрея Манзюка , перед заводом поставлена задача не просто выпускать в России доступную технику под известным европейским брендом, но и совершенствовать механизмы ее послепродажной поддержки, в том числе, с использованием потенциала дилерских центров. Общий объем инвестиций в проект оценивается в 3 млрд рублей. Развитие завода \"Кун Восток\" будет проходить в три этапа. Уже в рамках второй очереди проекта предполагается удвоение производственной площади и склада запасных частей. Третья очередь будет включать создание цехов металлообработки, литья, сварки и покраски. ']\n",
            "России \n",
            "Гусева \n",
            "Виктор Логинов \n",
            "KUHN Group \n",
            "Новая \n",
            "Андрея Манзюка \n",
            "России \n",
            "Общий \n",
            "Третья \n",
            "{'Виктор Логинов ', 'Третья ', 'Гусева ', 'Общий ', 'Новая ', 'KUHN Group ', 'России ', 'Андрея Манзюка '}\n",
            "['2021-11-08 00:00:00', ' Создание крупнейшего на юге России логистического центра, начавшегося в селе Чистенькое Симферопольского района, позволит снизить цены на сельхозпродукцию в Крыму. Об этом заявил директор компании-инвестора \"ПУД\" Артем Спиваков , передает 8 ноября пресс-служба Корпорации развития Республики Крым . Спиваков отметил, что на сегодняшний день в Крыму нет логистических центров класса \"А\". Поэтому у крымских производителей сельхозпродукции нет возможности размещать урожай фруктов и овощей на собственной территории. В результате урожай продается с низкой добавленной стоимостью. \"Результаты, которые планируется достичь в реализации проекта: снижение конечной стоимости сельхозпродукции отечественных производителей за счет уменьшения числа посредников и розничной цены на свежую продукцию примерно на 20%\" , — подчеркнул Спиваков. В свою очередь, глава минфина региона Ирина Кивико 8 ноября на церемонии начала строительства центра отметила, что реализация проекта не только позволит стабилизировать цены на сельхозпродукцию, но также создаст более 1,2 тыс. рабочих мест. По ее словам, объем инвестиций в проект составляет более 6 млрд рублей. ']\n",
            "Создание \n",
            "России \n",
            "Артем Спиваков \n",
            "Корпорации \n",
            "Поэтому \n",
            "Ирина \n",
            "{'Артем Спиваков ', 'Поэтому ', 'Ирина ', 'России ', 'Создание ', 'Корпорации '}\n",
            "['2021-11-06 00:00:00', ' Renault планирует выпустить в России пять новых моделей автомобилей к 2025 году, первой из них станет обновленный Duster. Об этом сообщил гендиректор Renault Россия Ян Птачек на встрече с журналистами, пишет ТАСС. \"Мы уже вывели на рынок Renault Arkana в 2019 году и новый Kaptur в 2020 году. В целом с 2020 до 2025 года мы хотим запустить 6 новых моделей на российском рынке\", – сказал он. В компании также отметили, что презентация первой новинки – Renault Duster состоится 11 февраля 2021 года. Как ранее сообщали в Ассоциации европейского бизнеса , продажи Renault в 2020 году в России упали на 11%, до 128,4 тыс. штук. Тем не менее, компания занимает четвертое место по продажам в стране, уступая лишь традиционному лидеру \" Автовазу\" , а также южнокорейским Kia и Hyundai . Renault с 2005 года владеет производственной площадкой в Москве. Это завод полного цикла, на котором функционируют цеха сварки, окраски и сборки. На нем производятся такие модели автоконцерна, как Renault Kaptur, Duster, Arkana, а также Sandero и Sandero Stepway. В 2013-2019 годах объем инвестиций в развитие московского завода составил свыше 18 млрд рублей. Сообщение Renault готовит множество новинок для России появились сначала на 5 колесо. ']\n",
            "Renault \n",
            "России \n",
            "Renault Россия Ян Птачек \n",
            "Renault Arkana \n",
            "Kaptur \n",
            "Renault Duster \n",
            "Renault \n",
            "России \n",
            "Renault Kaptur \n",
            "Duster \n",
            "Sandero \n",
            "Sandero Stepway \n",
            "Сообщение \n",
            "Renault \n",
            "России \n",
            "{'Renault ', 'Сообщение ', 'Renault Россия Ян Птачек ', 'Renault Arkana ', 'Renault Duster ', 'Sandero ', 'России ', 'Renault Kaptur ', 'Sandero Stepway ', 'Kaptur ', 'Duster '}\n",
            "['2021-11-10 00:00:00', ' В Бузулуке появится завод по переработке масличных культур за 13 миллиардов Компания \"Астон передовые технологии\" накануне, 9 ноября, представила в Оренбургской области инвестиционный проект строительства завода. Проект губернатору Денису Паслеру представил председатель совета директоров управляющей компании \"Астон передовые технологии\" Вадим Викулов . Ежегодный урожай подсолнечника в Оренбуржье составляет порядка 1 миллиона тонн. В регионе перерабатывается менее половины. По словам Паслера , компания \"Астон\" готова работать не только с подсолнечником, но и с льном и рапсом. Общий объем инвестиций составит более 13 млрд рублей. В рамках проекта планируется строительство завода с полным производственным циклом мощностью 3000 тонн в сутки. В комплекс также войдут котельная мощностью 130 тонн пара в час, элеватора на 200 тысяч тонн единовременного хранения и маслобаковое хозяйство мощностью единовременного хранения 20 тысяч тонн. Отмечается, что производство будет безотходным. Экстракционный шрот подсолнечника используется как комбикорм для животных и птицы. Также компания строила ТЭЦ , где в качестве топлива используют лузгу подсолнечника. Топлива хватает для того, чтобы существующие заводы полностью обеспечивали себя паром и электроэнергией. В Бузулуке планируется строительство такой ТЭЦ. Также технология производства на заводе также предполагает применение \"нулевого стока\", когда сточные воды очищаются и многократно используются. В планах развития предприятия – производство бутилированного масла под местным брендом. В настоящее время в Бузулуке идут подготовительные работы. Строительство завода начнется в 2022 году. Поставка основного технологического оборудования запланирована на июнь 2022 года. Пуско-наладочные работы — на 3-4 квартал 2023 года. ']\n",
            "Бузулуке \n",
            "Астон \n",
            "Проект \n",
            "Денису Паслеру \n",
            "Астон \n",
            "Викулов \n",
            "Ежегодный \n",
            "Общий \n",
            "Экстракционный \n",
            "Также \n",
            "Топлива \n",
            "Бузулуке \n",
            "Также \n",
            "Поставка \n",
            "{'Топлива ', 'Ежегодный ', 'Бузулуке ', 'Общий ', 'Денису Паслеру ', 'Также ', 'Экстракционный ', 'Викулов ', 'Поставка ', 'Проект ', 'Астон '}\n"
          ]
        }
      ]
    },
    {
      "cell_type": "code",
      "source": [
        "for i in range(1,10):\n",
        "  print(data[i])\n",
        "  russian_text = data[i][1]\n",
        "  print(\"Основные действующие лица: \", stanza_nlp_ru(russian_text))"
      ],
      "metadata": {
        "colab": {
          "base_uri": "https://localhost:8080/"
        },
        "id": "m8UjBCILARu_",
        "outputId": "d0273f91-1082-4a11-b009-cfc4e495cade"
      },
      "execution_count": 9,
      "outputs": [
        {
          "output_type": "stream",
          "name": "stderr",
          "text": [
            "2022-03-11 08:13:00 INFO: Loading these models for language: ru (Russian):\n",
            "=========================\n",
            "| Processor | Package   |\n",
            "-------------------------\n",
            "| tokenize  | syntagrus |\n",
            "| ner       | wikiner   |\n",
            "=========================\n",
            "\n",
            "2022-03-11 08:13:00 INFO: Use device: cpu\n",
            "2022-03-11 08:13:00 INFO: Loading: tokenize\n",
            "2022-03-11 08:13:00 INFO: Loading: ner\n"
          ]
        },
        {
          "output_type": "stream",
          "name": "stdout",
          "text": [
            "['2021-10-31 00:00:00', ' Российская корпорация \"Иркут\" и египетский холдинг KATO Investment на авиасалоне в Дубае подписали ряд соглашений о развитии сотрудничества по проекту новейшего российского пассажирского самолета МС-21 . \"В рамках программы сотрудничества заключено соглашение о закупке для авиакомпании Cairo Aviation (дочернее предприятие KATO Investment ) 6 самолетов МС-21. Соглашение также предусматривает опцион на 4 самолета МС-21\" , — сообщается в понедельник на сайте российской компании. Кроме того, в настоящее время стороны обсуждают создание регионального центра по ремонту и обслуживанию МС-21 в районе международного аэропорта Аль-Аламейн, расположенного в 184 километрах от Каира. Египетская сторона планирует бесплатно предоставить площадь, примыкающую к воздушной гавани, для размещения производственных сооружений. Отметим, что в настоящее время на Иркутском авиазаводе ведется сборка первых летных прототипов МС-21. Первый полет запланирован на весну-лето будущего года, серийное производство — на 2017 год. ']\n"
          ]
        },
        {
          "output_type": "stream",
          "name": "stderr",
          "text": [
            "2022-03-11 08:13:02 INFO: Done loading processors!\n",
            "2022-03-11 08:13:04 INFO: Loading these models for language: ru (Russian):\n",
            "=========================\n",
            "| Processor | Package   |\n",
            "-------------------------\n",
            "| tokenize  | syntagrus |\n",
            "| ner       | wikiner   |\n",
            "=========================\n",
            "\n",
            "2022-03-11 08:13:04 INFO: Use device: cpu\n",
            "2022-03-11 08:13:04 INFO: Loading: tokenize\n",
            "2022-03-11 08:13:04 INFO: Loading: ner\n"
          ]
        },
        {
          "output_type": "stream",
          "name": "stdout",
          "text": [
            "Entity: Иркут\tType: ORG\n",
            "Entity: KATO Investment\tType: ORG\n",
            "Entity: Cairo Aviation\tType: ORG\n",
            "Entity: KATO Investment\tType: ORG\n",
            "Entity: Иркутском авиазаводе\tType: ORG\n",
            "Основные действующие лица:  {'Cairo Aviation', 'Иркутском авиазаводе', 'Иркут', 'KATO Investment'}\n",
            "['2021-10-30 00:00:00', ' Во второй день празднования 100-летия Пермского университета , 14 октября, на торжественном вечере в Театре оперы и балета были впервые вручены медали имени Николая Мешкова . Университет наградил президента АО \"ЭР-Телеком Холдинг\" Андрея Кузяева и компанию \"ЛУКОЙЛ-Пермь\" . По решению Попечительского совета ПГНИУ их отметили за значительный вклад в развитие университета, укрепление авторитета вуза в России и мире, а также рост его финансового благосостояния. Решение о присуждении медали было принято 28 сентября. Андрей Равелевич Кузяев – один из самых успешных выпускников экономического факультета Пермского университета . Он начал свой путь как бизнесмен и управленец в 1990-е годы и стал одним из основателей (создателей) крупнейшего предприятия Прикамья – \"ЛУКОЙЛ-Пермь\" , до 2003 года был его генеральным директором. Затем возглавил компанию \"ЛУКОЙЛ Оверсиз Холдинг Лтд\" , сейчас является главой \"Пермской финансово-производственной группы\" (компания управляет ОАО АКБ \"Урал ФД\" , АО \"ЭР-Телеком Холдинг \", ООО \"Нефтьсервисхолдинг\", PAN City Group и рядом других успешных организаций) и президентом холдинга \"ЭР-Телеком\". Также Андрей Равелевич – председатель Правления РОО \"Пермское землячество\" и совета директоров ОАО \"Фонд развития Дальнего Востока\" . Он всегда поддерживает связь с родным вузом: выступил одним из инициаторов создания Попечительского совета Пермского университета , при его поддержке вуз завершил ряд крупных инфраструктурных проектов, создает и реализует образовательные проекты, в том числе международного уровня. \"ЛУКОЙЛ-Пермь\" на протяжении многих лет сотрудничает с ПГНИУ . Выпускники пополняют кадровый состав компании. При поддержке нефтяников, в частности, реализуются научно-исследовательские, инфраструктурные, образовательные, социальные и культурные проекты и международные летние школы. Многие сотрудники компании входят в список благотворителей Пермского университета и жертвователей в Фонд целевого капитала . В 2016 году открыто новое направление магистратуры – \"Экология и природопользование нефтегазового комплекса\", а ученые получают поддержку на проведение научных изысканий в сфере рационального использования сырья и переработки отходов. В этом же году между ПГНИУ и ООО \"ЛУКОЙЛ-Пермь\" было подписано соглашение о сотрудничестве. Нефтяники вложили в обновление конференц-зала 20 миллионов рублей. Николай Васильевич Мешков – один из основателей высшего образования на Урале, промышленник и меценат. Он известен своей общественной деятельностью: фактически спас Пермь от голода в неурожайный год и построил Ночлежный дом для бедняков. Деятельность Николая Васильевича как пароходчика обеспечивала транспортную открытость Перми и развитие ее экономики. Пресс-служба Фото Константина Долгановского ']\n"
          ]
        },
        {
          "output_type": "stream",
          "name": "stderr",
          "text": [
            "2022-03-11 08:13:06 INFO: Done loading processors!\n",
            "2022-03-11 08:13:12 INFO: Loading these models for language: ru (Russian):\n",
            "=========================\n",
            "| Processor | Package   |\n",
            "-------------------------\n",
            "| tokenize  | syntagrus |\n",
            "| ner       | wikiner   |\n",
            "=========================\n",
            "\n",
            "2022-03-11 08:13:12 INFO: Use device: cpu\n",
            "2022-03-11 08:13:12 INFO: Loading: tokenize\n",
            "2022-03-11 08:13:12 INFO: Loading: ner\n"
          ]
        },
        {
          "output_type": "stream",
          "name": "stdout",
          "text": [
            "Entity: Николая Мешкова\tType: PER\n",
            "Entity: АО \"ЭР-Телеком Холдинг\"\tType: ORG\n",
            "Entity: Андрея Кузяева\tType: PER\n",
            "Entity: ЛУКОЙЛ-Пермь\tType: ORG\n",
            "Entity: Попечительского совета ПГНИУ\tType: ORG\n",
            "Entity: Андрей Равелевич Кузяев\tType: PER\n",
            "Entity: ЛУКОЙЛ-Пермь\"\tType: ORG\n",
            "Entity: ЛУКОЙЛ Оверсиз Холдинг Лтд\tType: ORG\n",
            "Entity: Пермской финансово-производственной группы\tType: ORG\n",
            "Entity: ОАО АКБ \"Урал ФД\"\tType: ORG\n",
            "Entity: АО \"ЭР-Телеком Холдинг \"\tType: ORG\n",
            "Entity: ООО \"Нефтьсервисхолдинг\"\tType: ORG\n",
            "Entity: PAN City Group\tType: ORG\n",
            "Entity: ЭР-Телеком\tType: ORG\n",
            "Entity: Андрей Равелевич\tType: PER\n",
            "Entity: Правления РОО \"Пермское землячество\"\tType: ORG\n",
            "Entity: ОАО \"Фонд развития Дальнего Востока\tType: ORG\n",
            "Entity: Попечительского совета Пермского университета\tType: ORG\n",
            "Entity: ЛУКОЙЛ\tType: ORG\n",
            "Entity: ПГНИУ\tType: ORG\n",
            "Entity: Фонд целевого капитала\tType: ORG\n",
            "Entity: Экология и природопользование нефтегазового комплекса\tType: ORG\n",
            "Entity: ООО \"ЛУКОЙЛ-Пермь\"\tType: ORG\n",
            "Entity: Нефтяники\tType: ORG\n",
            "Entity: Николай Васильевич Мешков\tType: PER\n",
            "Entity: Николая Васильевича\tType: PER\n",
            "Entity: Константина Долгановского\tType: PER\n",
            "Основные действующие лица:  {'Николая Васильевича', 'Попечительского совета Пермского университета', 'Фонд целевого капитала', 'ООО \"ЛУКОЙЛ-Пермь\"', 'ЛУКОЙЛ-Пермь', 'ЛУКОЙЛ', 'PAN City Group', 'Экология и природопользование нефтегазового комплекса', 'ОАО АКБ \"Урал ФД\"', 'ЭР-Телеком', 'Андрея Кузяева', 'Константина Долгановского', 'АО \"ЭР-Телеком Холдинг\"', 'ОАО \"Фонд развития Дальнего Востока', 'Андрей Равелевич Кузяев', 'АО \"ЭР-Телеком Холдинг \"', 'Правления РОО \"Пермское землячество\"', 'Попечительского совета ПГНИУ', 'Андрей Равелевич', 'Пермской финансово-производственной группы', 'Николай Васильевич Мешков', 'ЛУКОЙЛ-Пермь\"', 'ЛУКОЙЛ Оверсиз Холдинг Лтд', 'Нефтяники', 'ООО \"Нефтьсервисхолдинг\"', 'Николая Мешкова', 'ПГНИУ'}\n",
            "['2021-11-08 00:00:00', ' На реализацию потребуется 13 лет, отметил гендиректор \"Вертолетов России\" Андрей Богинский . © Фото: пресс-служба президента РФ Россия и Китай заключили контракт на создание тяжелого вертолета, соглашение было подписано 25 июня. Об этом доложил президенту РФ Владимиру Путину генеральный директор холдинга \"Вертолеты России\" Андрей Богинский на встрече в Кремле. \"В 2016 году в ходе Вашего визита в Пекин было подписано межправсоглашение. С 2008 года шли интенсивные переговоры, и 25 июня текущего года мы подписали контракт\", - сказал он. По словам гендиректора, российская сторона будет заниматься разработкой и созданием таких агрегатов, как трансмиссия, рулевой винт и противообледенительная система, а также накачкой ресурса для данной машины. Совместный проект двух стран рассчитан на 13 лет. Также, по словам Богинского , холдинг с 2021 по 2025 годы планирует произвести свыше 1100 вертолетов. Межправительственное соглашение о создании перспективного тяжелого вертолета AHL (Advanced Heavy Lift) было подписано компанией \"Вертолеты России\" и китайской компанией Avicopter (входит в корпорацию Aviation Industry Corporation of China, AVIC) в Пекине в 2016 году. ']\n"
          ]
        },
        {
          "output_type": "stream",
          "name": "stderr",
          "text": [
            "2022-03-11 08:13:14 INFO: Done loading processors!\n",
            "2022-03-11 08:13:18 INFO: Loading these models for language: ru (Russian):\n",
            "=========================\n",
            "| Processor | Package   |\n",
            "-------------------------\n",
            "| tokenize  | syntagrus |\n",
            "| ner       | wikiner   |\n",
            "=========================\n",
            "\n",
            "2022-03-11 08:13:18 INFO: Use device: cpu\n",
            "2022-03-11 08:13:18 INFO: Loading: tokenize\n",
            "2022-03-11 08:13:18 INFO: Loading: ner\n"
          ]
        },
        {
          "output_type": "stream",
          "name": "stdout",
          "text": [
            "Entity: Вертолетов России\tType: ORG\n",
            "Entity: Андрей Богинский\tType: PER\n",
            "Entity: Владимиру Путину\tType: PER\n",
            "Entity: Вертолеты России\tType: ORG\n",
            "Entity: Андрей Богинский\tType: PER\n",
            "Entity: Богинского\tType: PER\n",
            "Entity: AHL\tType: ORG\n",
            "Entity: Вертолеты России\tType: ORG\n",
            "Entity: Avicopter\tType: ORG\n",
            "Entity: Aviation Industry Corporation of China\tType: ORG\n",
            "Entity: AVIC\tType: ORG\n",
            "Основные действующие лица:  {'Avicopter', 'Владимиру Путину', 'Aviation Industry Corporation of China', 'Вертолеты России', 'Андрей Богинский', 'Вертолетов России', 'AVIC', 'Богинского', 'AHL'}\n",
            "['2021-11-06 00:00:00', ' Во Вьетнаме построят завод по производству тарного картона Сегодня, 11:27 Ожидается, что спрос на тарный картон во Вьетнаме будет расти из-за увеличения внутреннего потребления, а также за счет увеличения спроса из-за рубежа, особенно из Китая. Поэтому в компании Vina Kraft Paper приняли решение построить в стране новое производство. В последние годы в Азии вкладываются значительные инвестиции в строительство новых мощностей по производству бумаги. Во многом это связано с повышенным спросом на упаковочную бумагу со стороны Китая. Это одна из причин, по которой Vina Kraft Paper , совместное предприятие, основанное таиландской SCG Paper и японской упаковочной группой Rengo , решила инвестировать в еще один завод по производству тарного картона во Вьетнаме. Новый завод планируется построить недалеко от Ханоя на севере страны. Его производственная мощность составит 370 тыс. тонн футеровки и гофрированного материала в год, сообщается в официальном пресс-релизе Rengo и SCG Paper. Ввод предприятия в эксплуатацию запланирован на первый квартал 2024 года. Общий объем инвестиций в проект составит 280 млн евро. Также по теме: Председатель правления РАО \"Бумпром\" предложил меры по восстановлению и развитию производства растворимой целлюлозы в РФ Чем грозит подорожание макулатуры Hayat Kimya построит четвертый завод в России ']\n"
          ]
        },
        {
          "output_type": "stream",
          "name": "stderr",
          "text": [
            "2022-03-11 08:13:19 INFO: Done loading processors!\n",
            "2022-03-11 08:13:21 INFO: Loading these models for language: ru (Russian):\n",
            "=========================\n",
            "| Processor | Package   |\n",
            "-------------------------\n",
            "| tokenize  | syntagrus |\n",
            "| ner       | wikiner   |\n",
            "=========================\n",
            "\n",
            "2022-03-11 08:13:21 INFO: Use device: cpu\n",
            "2022-03-11 08:13:21 INFO: Loading: tokenize\n",
            "2022-03-11 08:13:21 INFO: Loading: ner\n"
          ]
        },
        {
          "output_type": "stream",
          "name": "stdout",
          "text": [
            "Entity: Vina Kraft Paper\tType: ORG\n",
            "Entity: Vina Kraft Paper\tType: ORG\n",
            "Entity: SCG Paper\tType: ORG\n",
            "Entity: Rengo\tType: ORG\n",
            "Entity: SCG Paper\tType: ORG\n",
            "Entity: РАО \"Бумпром\"\tType: ORG\n",
            "Entity: Hayat Kimya\tType: ORG\n",
            "Основные действующие лица:  {'Rengo', 'РАО \"Бумпром\"', 'SCG Paper', 'Hayat Kimya', 'Vina Kraft Paper'}\n",
            "['2021-11-09 00:00:00', ' Новости - Отрасли ТЭК Резиденты ТОСЭР \"Озерск\" инвестируют в проекты по соглашениям с \"Атом-ТОР\" более 400 млн рублей 09.11.21 14:50 В 2019 году компания \"Интео\" заключила соглашение с управляющей компанией \"Атом-ТОР\", чтобы реализовать на ТОСЭР \"Озерск\" в Челябинской области проект по производству машин и оборудования для газо- и нефтедобывающих компаний, производителей буровзрывных работ. К настоящему времени предприятие уже вышло на полную проектную мощность. Для Александра Федотова и его предприятия эта награда стала первой. \"Мы изготавливаем не только машины, но и линии, мини-заводы модульного типа по производству невзрывчатых компонентов эмульсионных взрывчатых веществ. Эмульсионные взрывчатые вещества в последние годы приобрели преимущественное развитие для проведения буровзрывных работ в карьерах и шахтах, при строительстве и разработке месторождений полезных ископаемых. Технология их производства совершенствуется, чтобы отвечать требованиям комплексной механизации и безопасности взрывных и буровзрывных работ на открытых и подземных разработках\", — рассказал генеральный директор \"Интео\" . Все этапы производственного процесса, начиная с проектирования, ведутся силами высококлассных специалистов \"Интео\" . На рынок машиностроение компание \"Интео\" удалось выйти благодаря внедрению собственных разработок. Как пояснил Александр Федотов , изначально расчет был другим. \"Сказался пандемийный год. Занимались конструкторской документацией и разрешительными документами. В прошлом году получили заказ на изготовление мини-завода по производству взрывчатых веществ. Линия проходит последние испытания, после чего отправится в город Дегтярск Свердловской области\", — сказал он. Специалисты \"Интео\" используют новое и современное оборудование. Тот же сварочный аппарат – последней модификации. Сейчас идет сборка трех смесительно-зарядных машин. Одна на базе КАМАЗа, две – на шасси \"IVECO\". Отправятся на Ямал и Кузбасс соответственно. В прошлом году такая же машина была куплена одной из якутских компаний, откуда уже пришел положительный отзыв о качестве сборки и возможностях. Более того, идут переговоры о покупке еще нескольких единиц техники. Генеральный директор АО \"Атом-ТОР\" Николай Пегин отметил, что производимая компанией \"Интео\" техника способна заменить дорогостоящие импортные аналоги. \"ТОСЭР, созданные в закрытых атомных городах, создавались как инструменты для решения актуальной задачи развития этих территорий, создания новых высококвалифицированных рабочих мест. Сегодня мы видим, что наши резиденты успешно запускают производства и вносят вклад в экономику регионов\". За два года \"Интео\" доказало высокую конкурентоспособность на рынке производства оборудования для буровзрывных работ. Предприятие эффективно осваивает смежные рыночные ниши, такие как проектирование и изготовление штучного оборудования в соответствии с техническим заданием заказчика, ремонт и модернизацию буровой техники, техническое обслуживание машин и оборудования. Нужно отметить, что сегодня ТОСЭР \"Озерск\" , расположенная в Челябинской области, в целом имеет репутацию территории реализации высокотехнологичных проектов. Здесь работают шесть резидентов, которые планируют создать около 200 рабочих мест для жителей города. По соглашениям с АО \"Атом-ТОР\" сумма заявленных инвестиций по проектам составляет более 400 млн рублей. ']\n"
          ]
        },
        {
          "output_type": "stream",
          "name": "stderr",
          "text": [
            "2022-03-11 08:13:22 INFO: Done loading processors!\n",
            "2022-03-11 08:13:26 INFO: Loading these models for language: ru (Russian):\n",
            "=========================\n",
            "| Processor | Package   |\n",
            "-------------------------\n",
            "| tokenize  | syntagrus |\n",
            "| ner       | wikiner   |\n",
            "=========================\n",
            "\n",
            "2022-03-11 08:13:26 INFO: Use device: cpu\n",
            "2022-03-11 08:13:26 INFO: Loading: tokenize\n",
            "2022-03-11 08:13:26 INFO: Loading: ner\n"
          ]
        },
        {
          "output_type": "stream",
          "name": "stdout",
          "text": [
            "Entity: Отрасли ТЭК\tType: ORG\n",
            "Entity: ТОСЭР \"Озерск\"\tType: ORG\n",
            "Entity: Атом-ТОР\tType: ORG\n",
            "Entity: Интео\tType: ORG\n",
            "Entity: Атом-ТОР\tType: ORG\n",
            "Entity: ТОСЭР \"Озерск\"\tType: ORG\n",
            "Entity: Александра Федотова\tType: PER\n",
            "Entity: Интео\tType: ORG\n",
            "Entity: Интео\tType: ORG\n",
            "Entity: Интео\tType: ORG\n",
            "Entity: Александр Федотов\tType: PER\n",
            "Entity: Интео\tType: ORG\n",
            "Entity: КАМАЗа\tType: ORG\n",
            "Entity: IVECO\tType: ORG\n",
            "Entity: АО \"Атом-ТОР\"\tType: ORG\n",
            "Entity: Николай Пегин\tType: PER\n",
            "Entity: Интео\tType: ORG\n",
            "Entity: ТОСЭР\tType: ORG\n",
            "Entity: Интео\tType: ORG\n",
            "Entity: АО \"Атом-ТОР\"\tType: ORG\n",
            "Основные действующие лица:  {'ТОСЭР \"Озерск\"', 'АО \"Атом-ТОР\"', 'КАМАЗа', 'ТОСЭР', 'Интео', 'IVECO', 'Александра Федотова', 'Атом-ТОР', 'Отрасли ТЭК', 'Николай Пегин', 'Александр Федотов'}\n",
            "['2021-11-04 00:00:00', ' В Воронежской области дан старт первому в России производству сельхозмашин французской компании KUHN . Торжественная церемония пуска нового завода состоялась в Рамонском районе. По поручению губернатора Александра Гусева в открытии принял участие заместитель председателя правительства Воронежской области Виктор Логинов . Он передал поздравления главы региона, который отметил важность сотрудничества с KUHN Group в рамках приоритетного стратегического проекта \"Новая индустриализация региона\". Открывшийся завод уже устанавливает кооперационные связи с машиностроительными предприятиями Воронежской области, осуществляет контакты с местными вузами – в плане стажировки и дальнейшего трудоустройства студентов. В дальнейшем это сотрудничество будет расширяться. Производственная платформа введенного в строй дочернего предприятия ООО \"Кун Восток\" состоит из трех линий мощностью до 500 машин в год. В рамках строительства первой очереди также сданы в эксплуатацию склады готовой продукции (площадью 7 тыс. кв. метров) и запасных частей (на 5 тыс. палетомест). На территории расположен профессиональный учебный центр, шоу-рум с экспозицией и испытательный полигон площадью 10 га для демонстрации техники в работе. На воронежском предприятии наладят сборку наиболее востребованных у отечественных аграриев машин – почвообрабатывающих агрегатов, зерновых и пропашных сеялок, механизмов для внесения удобрений, опрыскивания и другой техники с использованием российских комплектующих. По словам генерального директора ООО \"Кун Восток\" Андрея Манзюка , перед заводом поставлена задача не просто выпускать в России доступную технику под известным европейским брендом, но и совершенствовать механизмы ее послепродажной поддержки, в том числе, с использованием потенциала дилерских центров. Общий объем инвестиций в проект оценивается в 3 млрд рублей. Развитие завода \"Кун Восток\" будет проходить в три этапа. Уже в рамках второй очереди проекта предполагается удвоение производственной площади и склада запасных частей. Третья очередь будет включать создание цехов металлообработки, литья, сварки и покраски. ']\n"
          ]
        },
        {
          "output_type": "stream",
          "name": "stderr",
          "text": [
            "2022-03-11 08:13:28 INFO: Done loading processors!\n",
            "2022-03-11 08:13:30 INFO: Loading these models for language: ru (Russian):\n",
            "=========================\n",
            "| Processor | Package   |\n",
            "-------------------------\n",
            "| tokenize  | syntagrus |\n",
            "| ner       | wikiner   |\n",
            "=========================\n",
            "\n",
            "2022-03-11 08:13:30 INFO: Use device: cpu\n",
            "2022-03-11 08:13:30 INFO: Loading: tokenize\n",
            "2022-03-11 08:13:30 INFO: Loading: ner\n"
          ]
        },
        {
          "output_type": "stream",
          "name": "stdout",
          "text": [
            "Entity: KUHN\tType: ORG\n",
            "Entity: Александра Гусева\tType: PER\n",
            "Entity: Виктор Логинов\tType: PER\n",
            "Entity: KUHN Group\tType: ORG\n",
            "Entity: ООО \"Кун Восток\tType: ORG\n",
            "Entity: ООО \"Кун Восток\tType: ORG\n",
            "Entity: Андрея Манзюка\tType: PER\n",
            "Entity: Кун Восток\tType: ORG\n",
            "Основные действующие лица:  {'ООО \"Кун Восток', 'Александра Гусева', 'Виктор Логинов', 'Андрея Манзюка', 'KUHN Group', 'KUHN', 'Кун Восток'}\n",
            "['2021-11-08 00:00:00', ' Создание крупнейшего на юге России логистического центра, начавшегося в селе Чистенькое Симферопольского района, позволит снизить цены на сельхозпродукцию в Крыму. Об этом заявил директор компании-инвестора \"ПУД\" Артем Спиваков , передает 8 ноября пресс-служба Корпорации развития Республики Крым . Спиваков отметил, что на сегодняшний день в Крыму нет логистических центров класса \"А\". Поэтому у крымских производителей сельхозпродукции нет возможности размещать урожай фруктов и овощей на собственной территории. В результате урожай продается с низкой добавленной стоимостью. \"Результаты, которые планируется достичь в реализации проекта: снижение конечной стоимости сельхозпродукции отечественных производителей за счет уменьшения числа посредников и розничной цены на свежую продукцию примерно на 20%\" , — подчеркнул Спиваков. В свою очередь, глава минфина региона Ирина Кивико 8 ноября на церемонии начала строительства центра отметила, что реализация проекта не только позволит стабилизировать цены на сельхозпродукцию, но также создаст более 1,2 тыс. рабочих мест. По ее словам, объем инвестиций в проект составляет более 6 млрд рублей. ']\n"
          ]
        },
        {
          "output_type": "stream",
          "name": "stderr",
          "text": [
            "2022-03-11 08:13:32 INFO: Done loading processors!\n",
            "2022-03-11 08:13:34 INFO: Loading these models for language: ru (Russian):\n",
            "=========================\n",
            "| Processor | Package   |\n",
            "-------------------------\n",
            "| tokenize  | syntagrus |\n",
            "| ner       | wikiner   |\n",
            "=========================\n",
            "\n",
            "2022-03-11 08:13:34 INFO: Use device: cpu\n",
            "2022-03-11 08:13:34 INFO: Loading: tokenize\n",
            "2022-03-11 08:13:34 INFO: Loading: ner\n"
          ]
        },
        {
          "output_type": "stream",
          "name": "stdout",
          "text": [
            "Entity: ПУД\tType: ORG\n",
            "Entity: Артем Спиваков\tType: PER\n",
            "Entity: Корпорации развития Республики Крым\tType: ORG\n",
            "Entity: Спиваков\tType: PER\n",
            "Entity: Спиваков\tType: PER\n",
            "Entity: Ирина Кивико\tType: PER\n",
            "Основные действующие лица:  {'Спиваков', 'ПУД', 'Корпорации развития Республики Крым', 'Артем Спиваков', 'Ирина Кивико'}\n",
            "['2021-11-06 00:00:00', ' Renault планирует выпустить в России пять новых моделей автомобилей к 2025 году, первой из них станет обновленный Duster. Об этом сообщил гендиректор Renault Россия Ян Птачек на встрече с журналистами, пишет ТАСС. \"Мы уже вывели на рынок Renault Arkana в 2019 году и новый Kaptur в 2020 году. В целом с 2020 до 2025 года мы хотим запустить 6 новых моделей на российском рынке\", – сказал он. В компании также отметили, что презентация первой новинки – Renault Duster состоится 11 февраля 2021 года. Как ранее сообщали в Ассоциации европейского бизнеса , продажи Renault в 2020 году в России упали на 11%, до 128,4 тыс. штук. Тем не менее, компания занимает четвертое место по продажам в стране, уступая лишь традиционному лидеру \" Автовазу\" , а также южнокорейским Kia и Hyundai . Renault с 2005 года владеет производственной площадкой в Москве. Это завод полного цикла, на котором функционируют цеха сварки, окраски и сборки. На нем производятся такие модели автоконцерна, как Renault Kaptur, Duster, Arkana, а также Sandero и Sandero Stepway. В 2013-2019 годах объем инвестиций в развитие московского завода составил свыше 18 млрд рублей. Сообщение Renault готовит множество новинок для России появились сначала на 5 колесо. ']\n"
          ]
        },
        {
          "output_type": "stream",
          "name": "stderr",
          "text": [
            "2022-03-11 08:13:35 INFO: Done loading processors!\n",
            "2022-03-11 08:13:36 INFO: Loading these models for language: ru (Russian):\n",
            "=========================\n",
            "| Processor | Package   |\n",
            "-------------------------\n",
            "| tokenize  | syntagrus |\n",
            "| ner       | wikiner   |\n",
            "=========================\n",
            "\n",
            "2022-03-11 08:13:36 INFO: Use device: cpu\n",
            "2022-03-11 08:13:36 INFO: Loading: tokenize\n",
            "2022-03-11 08:13:37 INFO: Loading: ner\n"
          ]
        },
        {
          "output_type": "stream",
          "name": "stdout",
          "text": [
            "Entity: Renault\tType: ORG\n",
            "Entity: Renault Россия\tType: ORG\n",
            "Entity: Ян Птачек\tType: PER\n",
            "Entity: ТАСС\tType: ORG\n",
            "Entity: Kaptur\tType: ORG\n",
            "Entity: Ассоциации европейского бизнеса\tType: ORG\n",
            "Entity: Renault\tType: ORG\n",
            "Entity: Автовазу\tType: ORG\n",
            "Entity: Kia\tType: ORG\n",
            "Entity: Hyundai\tType: ORG\n",
            "Entity: Renault\tType: ORG\n",
            "Entity: Duster\tType: ORG\n",
            "Entity: Arkana\tType: ORG\n",
            "Entity: Sandero\tType: ORG\n",
            "Entity: Sandero Stepway\tType: ORG\n",
            "Entity: Renault\tType: ORG\n",
            "Основные действующие лица:  {'Hyundai', 'Arkana', 'Renault Россия', 'Ян Птачек', 'Duster', 'Renault', 'Автовазу', 'Sandero Stepway', 'Kia', 'Kaptur', 'ТАСС', 'Sandero', 'Ассоциации европейского бизнеса'}\n",
            "['2021-11-10 00:00:00', ' В Бузулуке появится завод по переработке масличных культур за 13 миллиардов Компания \"Астон передовые технологии\" накануне, 9 ноября, представила в Оренбургской области инвестиционный проект строительства завода. Проект губернатору Денису Паслеру представил председатель совета директоров управляющей компании \"Астон передовые технологии\" Вадим Викулов . Ежегодный урожай подсолнечника в Оренбуржье составляет порядка 1 миллиона тонн. В регионе перерабатывается менее половины. По словам Паслера , компания \"Астон\" готова работать не только с подсолнечником, но и с льном и рапсом. Общий объем инвестиций составит более 13 млрд рублей. В рамках проекта планируется строительство завода с полным производственным циклом мощностью 3000 тонн в сутки. В комплекс также войдут котельная мощностью 130 тонн пара в час, элеватора на 200 тысяч тонн единовременного хранения и маслобаковое хозяйство мощностью единовременного хранения 20 тысяч тонн. Отмечается, что производство будет безотходным. Экстракционный шрот подсолнечника используется как комбикорм для животных и птицы. Также компания строила ТЭЦ , где в качестве топлива используют лузгу подсолнечника. Топлива хватает для того, чтобы существующие заводы полностью обеспечивали себя паром и электроэнергией. В Бузулуке планируется строительство такой ТЭЦ. Также технология производства на заводе также предполагает применение \"нулевого стока\", когда сточные воды очищаются и многократно используются. В планах развития предприятия – производство бутилированного масла под местным брендом. В настоящее время в Бузулуке идут подготовительные работы. Строительство завода начнется в 2022 году. Поставка основного технологического оборудования запланирована на июнь 2022 года. Пуско-наладочные работы — на 3-4 квартал 2023 года. ']\n"
          ]
        },
        {
          "output_type": "stream",
          "name": "stderr",
          "text": [
            "2022-03-11 08:13:38 INFO: Done loading processors!\n"
          ]
        },
        {
          "output_type": "stream",
          "name": "stdout",
          "text": [
            "Entity: Компания \"Астон передовые технологии\tType: ORG\n",
            "Entity: Денису Паслеру\tType: PER\n",
            "Entity: Астон передовые технологии\tType: ORG\n",
            "Entity: Вадим Викулов\tType: PER\n",
            "Entity: Паслера\tType: PER\n",
            "Entity: Астон\tType: ORG\n",
            "Entity: ТЭЦ\tType: ORG\n",
            "Основные действующие лица:  {'Компания \"Астон передовые технологии', 'Астон передовые технологии', 'Вадим Викулов', 'Паслера', 'Денису Паслеру', 'ТЭЦ', 'Астон'}\n"
          ]
        }
      ]
    }
  ]
}